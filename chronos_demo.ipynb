{
 "cells": [
  {
   "cell_type": "markdown",
   "metadata": {},
   "source": [
    "# Running a CWL workflow"
   ]
  },
  {
   "cell_type": "markdown",
   "metadata": {},
   "source": [
    "## Requirements\n",
    "\n",
    "Some script are set into PATH to ease manipulations.\n",
    "\n",
    "* Creating Jupyter kernel:\n",
    "\n",
    "```\n",
    "$ python3.6 -m ipykernel install --user --name swot --display-name \"SWOT\"\n",
    "Installed kernelspec swot in /home/ai4geo/.local/share/jupyter/kernels/swot\n",
    "```\n",
    "\n",
    "* Adding `.local/bin` into PATH with `vi /home/ai4geo/.local/share/jupyter/kernels/swot/kernel.json`:\n",
    "\n",
    "```\n",
    " \"env\": {\n",
    "  \"PATH\": \"$HOME/.local/bin:$PATH\"\n",
    " }\n",
    "```"
   ]
  },
  {
   "cell_type": "code",
   "execution_count": null,
   "metadata": {},
   "outputs": [],
   "source": [
    "%load_ext lab_black"
   ]
  },
  {
   "cell_type": "markdown",
   "metadata": {},
   "source": [
    "## Working directory creation"
   ]
  },
  {
   "cell_type": "code",
   "execution_count": null,
   "metadata": {},
   "outputs": [],
   "source": [
    "import os\n",
    "from datetime import datetime\n",
    "\n",
    "# Assumes current notebook lives here\n",
    "%cd -q ~\n",
    "\n",
    "# workdir = f\"work_{datetime.now().strftime('%Y%m%d-%H%M%S')}\"\n",
    "workdir = os.path.join(\"work\", datetime.now().strftime(\"%Y%m%d-%H%M%S\"))\n",
    "os.makedirs(workdir, exist_ok=True)\n",
    "\n",
    "print(\"Working into...\")\n",
    "%cd $workdir"
   ]
  },
  {
   "cell_type": "markdown",
   "metadata": {},
   "source": [
    "## Initializing inputs"
   ]
  },
  {
   "cell_type": "code",
   "execution_count": null,
   "metadata": {},
   "outputs": [],
   "source": [
    "!init_input.sh 1 input && init_args.py input\n",
    "!tree"
   ]
  },
  {
   "cell_type": "markdown",
   "metadata": {},
   "source": [
    "## Running the workflow with cwltool"
   ]
  },
  {
   "cell_type": "code",
   "execution_count": null,
   "metadata": {
    "scrolled": true
   },
   "outputs": [],
   "source": [
    "!cwltool ~/chronos-demo/cwl/KARIN_HR.cwl args.json"
   ]
  },
  {
   "cell_type": "markdown",
   "metadata": {},
   "source": [
    "## Printing outputs"
   ]
  },
  {
   "cell_type": "code",
   "execution_count": null,
   "metadata": {},
   "outputs": [],
   "source": [
    "!ls infile*"
   ]
  },
  {
   "cell_type": "code",
   "execution_count": null,
   "metadata": {},
   "outputs": [],
   "source": []
  }
 ],
 "metadata": {
  "kernelspec": {
   "display_name": "SWOT",
   "language": "python",
   "name": "swot"
  },
  "language_info": {
   "codemirror_mode": {
    "name": "ipython",
    "version": 3
   },
   "file_extension": ".py",
   "mimetype": "text/x-python",
   "name": "python",
   "nbconvert_exporter": "python",
   "pygments_lexer": "ipython3",
   "version": "3.6.9"
  }
 },
 "nbformat": 4,
 "nbformat_minor": 4
}
